{
 "cells": [
  {
   "cell_type": "code",
   "execution_count": 3,
   "metadata": {},
   "outputs": [
    {
     "name": "stdout",
     "output_type": "stream",
     "text": [
      "> 5\n",
      "*       * * * * * \n",
      "*       *\n",
      "*       *\n",
      "*       *\n",
      "* * * * * * * * * \n",
      "        *       * \n",
      "        *       * \n",
      "        *       * \n",
      "* * * * *       *\n"
     ]
    }
   ],
   "source": [
    "def print_swastik(n):\n",
    "    i=1\n",
    "    while i<n*2:\n",
    "        if i==1:\n",
    "            print(\"*\",end=' ')\n",
    "            j=1\n",
    "            while j<=n-2:\n",
    "                print(\" \",end=' ')\n",
    "                j+=1\n",
    "            j=1\n",
    "            while j<=n:\n",
    "                print(\"*\",end=' ')\n",
    "                j+=1\n",
    "        elif i>1 and i<(n*2)//2:\n",
    "            print(\"*\",end=' ')\n",
    "            j=1\n",
    "            while j<=n-2:\n",
    "                print(\" \",end=' ')\n",
    "                j+=1\n",
    "            print(\"*\",end='')\n",
    "        elif i==n*2-1:\n",
    "            j=1\n",
    "            while j<=n:\n",
    "                print(\"*\",end=\" \")\n",
    "                j+=1\n",
    "            j=1\n",
    "            while j<=n-2:\n",
    "                print(\" \",end=' ')\n",
    "                j+=1\n",
    "            print(\"*\",end='')\n",
    "        elif i==n:\n",
    "            j=1\n",
    "            while j<=n*2-1:\n",
    "                print(\"*\",end=\" \")\n",
    "                j+=1\n",
    "        elif i>n and i<n*2:\n",
    "            j=1\n",
    "            while j<=n-1:\n",
    "                print(\" \",end=' ')\n",
    "                j+=1\n",
    "            print(\"*\",end=' ')\n",
    "            j=1\n",
    "            while j<=n-2:\n",
    "                print(\" \",end=' ')\n",
    "                j+=1\n",
    "            print(\"*\",end=' ')    \n",
    "        print() \n",
    "        i+=1\n",
    "    \n",
    "\n",
    "\n",
    "            \n",
    "n=int(input(\"> \"))\n",
    "print_swastik(n)\n",
    "            "
   ]
  },
  {
   "cell_type": "code",
   "execution_count": null,
   "metadata": {},
   "outputs": [],
   "source": []
  }
 ],
 "metadata": {
  "kernelspec": {
   "display_name": "Python 3",
   "language": "python",
   "name": "python3"
  },
  "language_info": {
   "codemirror_mode": {
    "name": "ipython",
    "version": 3
   },
   "file_extension": ".py",
   "mimetype": "text/x-python",
   "name": "python",
   "nbconvert_exporter": "python",
   "pygments_lexer": "ipython3",
   "version": "3.6.5"
  }
 },
 "nbformat": 4,
 "nbformat_minor": 2
}
